{
  "nbformat": 4,
  "nbformat_minor": 0,
  "metadata": {
    "colab": {
      "provenance": [],
      "toc_visible": true
    },
    "kernelspec": {
      "name": "python3",
      "display_name": "Python 3"
    },
    "language_info": {
      "name": "python"
    }
  },
  "cells": [
    {
      "cell_type": "markdown",
      "source": [
        "Vilane MT 22329057"
      ],
      "metadata": {
        "id": "9JsvKKVcNn6_"
      }
    },
    {
      "cell_type": "code",
      "execution_count": 1,
      "metadata": {
        "colab": {
          "base_uri": "https://localhost:8080/"
        },
        "id": "OuQU2yGULOfI",
        "outputId": "8bd877be-c613-471e-a49b-d3d6b4b792ea"
      },
      "outputs": [
        {
          "output_type": "stream",
          "name": "stdout",
          "text": [
            "Archive:  ml-100k.zip\n",
            "   creating: ml-100k/\n",
            "  inflating: ml-100k/allbut.pl       \n",
            "  inflating: ml-100k/mku.sh          \n",
            "  inflating: ml-100k/README          \n",
            "  inflating: ml-100k/u.data          \n",
            "  inflating: ml-100k/u.genre         \n",
            "  inflating: ml-100k/u.info          \n",
            "  inflating: ml-100k/u.item          \n",
            "  inflating: ml-100k/u.occupation    \n",
            "  inflating: ml-100k/u.user          \n",
            "  inflating: ml-100k/u1.base         \n",
            "  inflating: ml-100k/u1.test         \n",
            "  inflating: ml-100k/u2.base         \n",
            "  inflating: ml-100k/u2.test         \n",
            "  inflating: ml-100k/u3.base         \n",
            "  inflating: ml-100k/u3.test         \n",
            "  inflating: ml-100k/u4.base         \n",
            "  inflating: ml-100k/u4.test         \n",
            "  inflating: ml-100k/u5.base         \n",
            "  inflating: ml-100k/u5.test         \n",
            "  inflating: ml-100k/ua.base         \n",
            "  inflating: ml-100k/ua.test         \n",
            "  inflating: ml-100k/ub.base         \n",
            "  inflating: ml-100k/ub.test         \n"
          ]
        }
      ],
      "source": [
        "!wget -q -O ml-100k.zip http://files.grouplens.org/datasets/movielens/ml-100k.zip\n",
        "!unzip -o ml-100k.zip # 1) download and unzip MovieLens 100k"
      ]
    },
    {
      "cell_type": "code",
      "source": [
        "# 2) basic imports\n",
        "import pandas as pd\n",
        "import numpy as np\n",
        "from sklearn.model_selection import train_test_split\n",
        "from sklearn.preprocessing import StandardScaler\n",
        "from sklearn.linear_model import LogisticRegression\n",
        "from sklearn.ensemble import RandomForestClassifier\n",
        "from sklearn.metrics import (accuracy_score, precision_score, recall_score,\n",
        "                             f1_score, roc_auc_score, confusion_matrix)\n"
      ],
      "metadata": {
        "id": "iLB1fsXmMgkq"
      },
      "execution_count": null,
      "outputs": []
    },
    {
      "cell_type": "code",
      "source": [
        "# 3) load the files (u.data, u.user, u.item)\n",
        "ratings_cols = ['user_id','movie_id','rating','timestamp']\n",
        "ratings = pd.read_csv('ml-100k/u.data', sep='\\t', names=ratings_cols, engine='python')\n"
      ],
      "metadata": {
        "id": "vzLj3cmKNH-b"
      },
      "execution_count": null,
      "outputs": []
    },
    {
      "cell_type": "markdown",
      "source": [
        "# New Section"
      ],
      "metadata": {
        "id": "yp0j5xTV39EU"
      }
    },
    {
      "cell_type": "code",
      "source": [
        "print(\"\\n=== Ratings Dataset Preview ===\")\n",
        "print(ratings.head())\n",
        "print(ratings.info())\n",
        "print(ratings.columns)"
      ],
      "metadata": {
        "colab": {
          "base_uri": "https://localhost:8080/"
        },
        "id": "-IC5-vR9SX64",
        "outputId": "d6782a67-e9f2-453c-c610-ff74d5d9ef68"
      },
      "execution_count": null,
      "outputs": [
        {
          "output_type": "stream",
          "name": "stdout",
          "text": [
            "\n",
            "=== Ratings Dataset Preview ===\n",
            "   user_id  movie_id  rating  timestamp\n",
            "0      196       242       3  881250949\n",
            "1      186       302       3  891717742\n",
            "2       22       377       1  878887116\n",
            "3      244        51       2  880606923\n",
            "4      166       346       1  886397596\n",
            "<class 'pandas.core.frame.DataFrame'>\n",
            "RangeIndex: 100000 entries, 0 to 99999\n",
            "Data columns (total 4 columns):\n",
            " #   Column     Non-Null Count   Dtype\n",
            "---  ------     --------------   -----\n",
            " 0   user_id    100000 non-null  int64\n",
            " 1   movie_id   100000 non-null  int64\n",
            " 2   rating     100000 non-null  int64\n",
            " 3   timestamp  100000 non-null  int64\n",
            "dtypes: int64(4)\n",
            "memory usage: 3.1 MB\n",
            "None\n",
            "Index(['user_id', 'movie_id', 'rating', 'timestamp'], dtype='object')\n"
          ]
        }
      ]
    },
    {
      "cell_type": "code",
      "source": [
        "users_cols = ['user_id','age','gender','occupation','zip_code']\n",
        "users = pd.read_csv('ml-100k/u.user', sep='|', names=users_cols, engine='python')"
      ],
      "metadata": {
        "id": "Ooah25puNZo7"
      },
      "execution_count": null,
      "outputs": []
    },
    {
      "cell_type": "code",
      "source": [
        "print(\"\\n=== Users Dataset Preview ===\") #view\n",
        "print(users.head())\n",
        "print(users.info())\n",
        "print(users.columns)\n"
      ],
      "metadata": {
        "colab": {
          "base_uri": "https://localhost:8080/"
        },
        "id": "7Mu2hiu7Swmm",
        "outputId": "433199d0-ba30-400d-b772-84c9fa22840a"
      },
      "execution_count": null,
      "outputs": [
        {
          "output_type": "stream",
          "name": "stdout",
          "text": [
            "\n",
            "=== Users Dataset Preview ===\n",
            "   user_id  age gender  occupation zip_code\n",
            "0        1   24      M  technician    85711\n",
            "1        2   53      F       other    94043\n",
            "2        3   23      M      writer    32067\n",
            "3        4   24      M  technician    43537\n",
            "4        5   33      F       other    15213\n",
            "<class 'pandas.core.frame.DataFrame'>\n",
            "RangeIndex: 943 entries, 0 to 942\n",
            "Data columns (total 5 columns):\n",
            " #   Column      Non-Null Count  Dtype \n",
            "---  ------      --------------  ----- \n",
            " 0   user_id     943 non-null    int64 \n",
            " 1   age         943 non-null    int64 \n",
            " 2   gender      943 non-null    object\n",
            " 3   occupation  943 non-null    object\n",
            " 4   zip_code    943 non-null    object\n",
            "dtypes: int64(2), object(3)\n",
            "memory usage: 37.0+ KB\n",
            "None\n",
            "Index(['user_id', 'age', 'gender', 'occupation', 'zip_code'], dtype='object')\n"
          ]
        }
      ]
    },
    {
      "cell_type": "code",
      "source": [
        "# u.item has 5 metadata cols + 19 genre flags (pipe-separated). Provide genre names:\n",
        "genres = ['unknown','Action','Adventure','Animation',\"Children's\",'Comedy','Crime','Documentary',\n",
        "          'Drama','Fantasy','Film-Noir','Horror','Musical','Mystery','Romance','Sci-Fi','Thriller','War','Western']\n",
        "item_cols = ['movie_id','title','release_date','video_release_date','IMDb_URL'] + genres\n",
        "movies = pd.read_csv('ml-100k/u.item', sep='|', names=item_cols, encoding='latin-1', engine='python')\n"
      ],
      "metadata": {
        "id": "TtcNC1z7NkK_"
      },
      "execution_count": null,
      "outputs": []
    },
    {
      "cell_type": "code",
      "source": [
        "print(\"\\n=== Movies Dataset Preview ===\")\n",
        "print(movies.head())\n",
        "print(movies.info())\n",
        "print(movies.columns)"
      ],
      "metadata": {
        "colab": {
          "base_uri": "https://localhost:8080/"
        },
        "id": "YikzJXOsRw1R",
        "outputId": "090841b1-51e3-4f6c-ade2-c51b798911bd"
      },
      "execution_count": null,
      "outputs": [
        {
          "output_type": "stream",
          "name": "stdout",
          "text": [
            "\n",
            "=== Movies Dataset Preview ===\n",
            "   movie_id              title release_date  video_release_date  \\\n",
            "0         1   Toy Story (1995)  01-Jan-1995                 NaN   \n",
            "1         2   GoldenEye (1995)  01-Jan-1995                 NaN   \n",
            "2         3  Four Rooms (1995)  01-Jan-1995                 NaN   \n",
            "3         4  Get Shorty (1995)  01-Jan-1995                 NaN   \n",
            "4         5     Copycat (1995)  01-Jan-1995                 NaN   \n",
            "\n",
            "                                            IMDb_URL  unknown  Action  \\\n",
            "0  http://us.imdb.com/M/title-exact?Toy%20Story%2...        0       0   \n",
            "1  http://us.imdb.com/M/title-exact?GoldenEye%20(...        0       1   \n",
            "2  http://us.imdb.com/M/title-exact?Four%20Rooms%...        0       0   \n",
            "3  http://us.imdb.com/M/title-exact?Get%20Shorty%...        0       1   \n",
            "4  http://us.imdb.com/M/title-exact?Copycat%20(1995)        0       0   \n",
            "\n",
            "   Adventure  Animation  Children's  ...  Fantasy  Film-Noir  Horror  Musical  \\\n",
            "0          0          1           1  ...        0          0       0        0   \n",
            "1          1          0           0  ...        0          0       0        0   \n",
            "2          0          0           0  ...        0          0       0        0   \n",
            "3          0          0           0  ...        0          0       0        0   \n",
            "4          0          0           0  ...        0          0       0        0   \n",
            "\n",
            "   Mystery  Romance  Sci-Fi  Thriller  War  Western  \n",
            "0        0        0       0         0    0        0  \n",
            "1        0        0       0         1    0        0  \n",
            "2        0        0       0         1    0        0  \n",
            "3        0        0       0         0    0        0  \n",
            "4        0        0       0         1    0        0  \n",
            "\n",
            "[5 rows x 24 columns]\n",
            "<class 'pandas.core.frame.DataFrame'>\n",
            "RangeIndex: 1682 entries, 0 to 1681\n",
            "Data columns (total 24 columns):\n",
            " #   Column              Non-Null Count  Dtype  \n",
            "---  ------              --------------  -----  \n",
            " 0   movie_id            1682 non-null   int64  \n",
            " 1   title               1682 non-null   object \n",
            " 2   release_date        1681 non-null   object \n",
            " 3   video_release_date  0 non-null      float64\n",
            " 4   IMDb_URL            1679 non-null   object \n",
            " 5   unknown             1682 non-null   int64  \n",
            " 6   Action              1682 non-null   int64  \n",
            " 7   Adventure           1682 non-null   int64  \n",
            " 8   Animation           1682 non-null   int64  \n",
            " 9   Children's          1682 non-null   int64  \n",
            " 10  Comedy              1682 non-null   int64  \n",
            " 11  Crime               1682 non-null   int64  \n",
            " 12  Documentary         1682 non-null   int64  \n",
            " 13  Drama               1682 non-null   int64  \n",
            " 14  Fantasy             1682 non-null   int64  \n",
            " 15  Film-Noir           1682 non-null   int64  \n",
            " 16  Horror              1682 non-null   int64  \n",
            " 17  Musical             1682 non-null   int64  \n",
            " 18  Mystery             1682 non-null   int64  \n",
            " 19  Romance             1682 non-null   int64  \n",
            " 20  Sci-Fi              1682 non-null   int64  \n",
            " 21  Thriller            1682 non-null   int64  \n",
            " 22  War                 1682 non-null   int64  \n",
            " 23  Western             1682 non-null   int64  \n",
            "dtypes: float64(1), int64(20), object(3)\n",
            "memory usage: 315.5+ KB\n",
            "None\n",
            "Index(['movie_id', 'title', 'release_date', 'video_release_date', 'IMDb_URL',\n",
            "       'unknown', 'Action', 'Adventure', 'Animation', 'Children's', 'Comedy',\n",
            "       'Crime', 'Documentary', 'Drama', 'Fantasy', 'Film-Noir', 'Horror',\n",
            "       'Musical', 'Mystery', 'Romance', 'Sci-Fi', 'Thriller', 'War',\n",
            "       'Western'],\n",
            "      dtype='object')\n"
          ]
        }
      ]
    },
    {
      "cell_type": "code",
      "source": [
        "# 4) quick merge to create one flat table for modeling\n",
        "df = ratings.merge(users, on='user_id', how='left').merge(movies, on='movie_id', how='left')"
      ],
      "metadata": {
        "id": "wJdsNleIN6sd"
      },
      "execution_count": null,
      "outputs": []
    },
    {
      "cell_type": "code",
      "source": [
        "print(\"\\n=== Merged Dataset Preview ===\") #view\n",
        "print(df.head())\n",
        "print(df.info())\n",
        "print(df.columns)\n"
      ],
      "metadata": {
        "colab": {
          "base_uri": "https://localhost:8080/"
        },
        "id": "MjP7dKUKTpxA",
        "outputId": "5240a6a9-0a64-4633-c85d-22bb683665c8"
      },
      "execution_count": null,
      "outputs": [
        {
          "output_type": "stream",
          "name": "stdout",
          "text": [
            "\n",
            "=== Merged Dataset Preview ===\n",
            "   user_id  movie_id  rating  timestamp  age gender  occupation zip_code  \\\n",
            "0      196       242       3  881250949   49      M      writer    55105   \n",
            "1      186       302       3  891717742   39      F   executive    00000   \n",
            "2       22       377       1  878887116   25      M      writer    40206   \n",
            "3      244        51       2  880606923   28      M  technician    80525   \n",
            "4      166       346       1  886397596   47      M    educator    55113   \n",
            "\n",
            "                        title release_date  ...  Fantasy Film-Noir  Horror  \\\n",
            "0                Kolya (1996)  24-Jan-1997  ...        0         0       0   \n",
            "1    L.A. Confidential (1997)  01-Jan-1997  ...        0         1       0   \n",
            "2         Heavyweights (1994)  01-Jan-1994  ...        0         0       0   \n",
            "3  Legends of the Fall (1994)  01-Jan-1994  ...        0         0       0   \n",
            "4         Jackie Brown (1997)  01-Jan-1997  ...        0         0       0   \n",
            "\n",
            "   Musical  Mystery  Romance  Sci-Fi  Thriller  War  Western  \n",
            "0        0        0        0       0         0    0        0  \n",
            "1        0        1        0       0         1    0        0  \n",
            "2        0        0        0       0         0    0        0  \n",
            "3        0        0        1       0         0    1        1  \n",
            "4        0        0        0       0         0    0        0  \n",
            "\n",
            "[5 rows x 31 columns]\n",
            "<class 'pandas.core.frame.DataFrame'>\n",
            "RangeIndex: 100000 entries, 0 to 99999\n",
            "Data columns (total 31 columns):\n",
            " #   Column              Non-Null Count   Dtype  \n",
            "---  ------              --------------   -----  \n",
            " 0   user_id             100000 non-null  int64  \n",
            " 1   movie_id            100000 non-null  int64  \n",
            " 2   rating              100000 non-null  int64  \n",
            " 3   timestamp           100000 non-null  int64  \n",
            " 4   age                 100000 non-null  int64  \n",
            " 5   gender              100000 non-null  object \n",
            " 6   occupation          100000 non-null  object \n",
            " 7   zip_code            100000 non-null  object \n",
            " 8   title               100000 non-null  object \n",
            " 9   release_date        99991 non-null   object \n",
            " 10  video_release_date  0 non-null       float64\n",
            " 11  IMDb_URL            99987 non-null   object \n",
            " 12  unknown             100000 non-null  int64  \n",
            " 13  Action              100000 non-null  int64  \n",
            " 14  Adventure           100000 non-null  int64  \n",
            " 15  Animation           100000 non-null  int64  \n",
            " 16  Children's          100000 non-null  int64  \n",
            " 17  Comedy              100000 non-null  int64  \n",
            " 18  Crime               100000 non-null  int64  \n",
            " 19  Documentary         100000 non-null  int64  \n",
            " 20  Drama               100000 non-null  int64  \n",
            " 21  Fantasy             100000 non-null  int64  \n",
            " 22  Film-Noir           100000 non-null  int64  \n",
            " 23  Horror              100000 non-null  int64  \n",
            " 24  Musical             100000 non-null  int64  \n",
            " 25  Mystery             100000 non-null  int64  \n",
            " 26  Romance             100000 non-null  int64  \n",
            " 27  Sci-Fi              100000 non-null  int64  \n",
            " 28  Thriller            100000 non-null  int64  \n",
            " 29  War                 100000 non-null  int64  \n",
            " 30  Western             100000 non-null  int64  \n",
            "dtypes: float64(1), int64(24), object(6)\n",
            "memory usage: 23.7+ MB\n",
            "None\n",
            "Index(['user_id', 'movie_id', 'rating', 'timestamp', 'age', 'gender',\n",
            "       'occupation', 'zip_code', 'title', 'release_date', 'video_release_date',\n",
            "       'IMDb_URL', 'unknown', 'Action', 'Adventure', 'Animation', 'Children's',\n",
            "       'Comedy', 'Crime', 'Documentary', 'Drama', 'Fantasy', 'Film-Noir',\n",
            "       'Horror', 'Musical', 'Mystery', 'Romance', 'Sci-Fi', 'Thriller', 'War',\n",
            "       'Western'],\n",
            "      dtype='object')\n"
          ]
        }
      ]
    },
    {
      "cell_type": "code",
      "source": [
        "# 5) create binary target: liked if rating >= 4\n",
        "df['liked'] = (df['rating'] >= 4).astype(int)\n"
      ],
      "metadata": {
        "id": "zg19tiMNOKF4"
      },
      "execution_count": null,
      "outputs": []
    },
    {
      "cell_type": "code",
      "source": [
        "# 6) feature engineering (simple, beginner-friendly features)\n",
        "# a) user features: age (keep), gender -> numeric\n",
        "df['gender_num'] = df['gender'].map({'M':1, 'F':0})"
      ],
      "metadata": {
        "id": "_nS5U129OSqI"
      },
      "execution_count": null,
      "outputs": []
    },
    {
      "cell_type": "code",
      "source": [
        "# b) movie year: extract year from title (e.g., \"Toy Story (1995)\")\n",
        "import re\n",
        "def extract_year(title):\n",
        "    m = re.search(r'\\((\\d{4})\\)', str(title))\n",
        "    return int(m.group(1)) if m else np.nan"
      ],
      "metadata": {
        "id": "x0AQrMBiOf8Y"
      },
      "execution_count": null,
      "outputs": []
    },
    {
      "cell_type": "code",
      "source": [
        "df['movie_year'] = df['title'].apply(extract_year)\n"
      ],
      "metadata": {
        "id": "m22bai3qOuED"
      },
      "execution_count": null,
      "outputs": []
    },
    {
      "cell_type": "code",
      "source": [
        "# c) genre_count (how many genres the movie has)\n",
        "df['genre_count'] = df[genres].sum(axis=1)\n"
      ],
      "metadata": {
        "id": "k_opYrm1OzU0"
      },
      "execution_count": null,
      "outputs": []
    },
    {
      "cell_type": "code",
      "source": [
        "# d) movie and user average ratings (use group transforms so each row gets the avg)\n",
        "df['movie_avg_rating'] = df.groupby('movie_id')['rating'].transform('mean')\n",
        "df['user_avg_rating'] = df.groupby('user_id')['rating'].transform('mean')\n"
      ],
      "metadata": {
        "id": "8fxkPFL5O54I"
      },
      "execution_count": null,
      "outputs": []
    },
    {
      "cell_type": "code",
      "source": [
        "# 7) select features and handle missing values\n",
        "features = ['age','gender_num','movie_year','genre_count','movie_avg_rating','user_avg_rating']\n",
        "X = df[features].copy()\n",
        "y = df['liked']"
      ],
      "metadata": {
        "id": "LaNrJgP8PBkk"
      },
      "execution_count": null,
      "outputs": []
    },
    {
      "cell_type": "code",
      "source": [
        "# fill or impute missing movie_year with median (simple)\n",
        "X['movie_year'] = X['movie_year'].fillna(X['movie_year'].median())\n",
        "X = X.fillna(X.median())"
      ],
      "metadata": {
        "id": "tZbsVaBOPG4T"
      },
      "execution_count": null,
      "outputs": []
    },
    {
      "cell_type": "code",
      "source": [
        "# 8) train/test split (stratify to keep class balance)\n",
        "X_train, X_test, y_train, y_test = train_test_split(\n",
        "    X, y, test_size=0.20, random_state=42, stratify=y\n",
        ")"
      ],
      "metadata": {
        "id": "zYn7H2MdPNNQ"
      },
      "execution_count": null,
      "outputs": []
    },
    {
      "cell_type": "code",
      "source": [
        "# 9) Logistic Regression (scale numeric features)\n",
        "scaler = StandardScaler()\n",
        "X_train_scaled = scaler.fit_transform(X_train)\n",
        "X_test_scaled = scaler.transform(X_test)\n",
        "\n",
        "lr = LogisticRegression(max_iter=1000, random_state=42)\n",
        "lr.fit(X_train_scaled, y_train)\n",
        "\n",
        "y_pred_lr = lr.predict(X_test_scaled)\n",
        "y_proba_lr = lr.predict_proba(X_test_scaled)[:,1]\n"
      ],
      "metadata": {
        "id": "-GeRDDsoPXCE"
      },
      "execution_count": null,
      "outputs": []
    },
    {
      "cell_type": "code",
      "source": [
        "# 10) Random Forest (doesn't require scaling)\n",
        "rf = RandomForestClassifier(n_estimators=100, random_state=42)\n",
        "rf.fit(X_train, y_train)\n",
        "\n",
        "y_pred_rf = rf.predict(X_test)\n",
        "y_proba_rf = rf.predict_proba(X_test)[:,1]\n"
      ],
      "metadata": {
        "id": "SKaezDI2PeNb"
      },
      "execution_count": null,
      "outputs": []
    },
    {
      "cell_type": "code",
      "source": [
        "# 11) evaluation helper\n",
        "def print_metrics(name, y_true, y_pred, y_proba):\n",
        "    print(f\"=== {name} ===\")\n",
        "    print(\"Accuracy:\", accuracy_score(y_true, y_pred))\n",
        "    print(\"Precision:\", precision_score(y_true, y_pred))\n",
        "    print(\"Recall:\", recall_score(y_true, y_pred))\n",
        "    print(\"F1:\", f1_score(y_true, y_pred))\n",
        "    print(\"ROC AUC:\", roc_auc_score(y_true, y_proba))\n",
        "    print()\n",
        "\n",
        "print_metrics(\"Logistic Regression\", y_test, y_pred_lr, y_proba_lr)\n",
        "print_metrics(\"Random Forest\", y_test, y_pred_rf, y_proba_rf)\n"
      ],
      "metadata": {
        "colab": {
          "base_uri": "https://localhost:8080/"
        },
        "id": "3ZxpnIv5PqES",
        "outputId": "b3190cc2-8121-4634-ab22-2a3074be020e"
      },
      "execution_count": null,
      "outputs": [
        {
          "output_type": "stream",
          "name": "stdout",
          "text": [
            "=== Logistic Regression ===\n",
            "Accuracy: 0.71375\n",
            "Precision: 0.7207824364476725\n",
            "Recall: 0.7885327313769752\n",
            "F1: 0.7531369927989306\n",
            "ROC AUC: 0.7821243242217881\n",
            "\n",
            "=== Random Forest ===\n",
            "Accuracy: 0.69635\n",
            "Precision: 0.7163869181519295\n",
            "Recall: 0.7476297968397291\n",
            "F1: 0.7316749878496002\n",
            "ROC AUC: 0.7615480850579509\n",
            "\n"
          ]
        }
      ]
    },
    {
      "cell_type": "code",
      "source": [
        "# 12) feature importances (from Random Forest)\n",
        "importances = pd.Series(rf.feature_importances_, index=features).sort_values(ascending=False)\n",
        "print(\"Random Forest feature importances:\\n\", importances)"
      ],
      "metadata": {
        "colab": {
          "base_uri": "https://localhost:8080/"
        },
        "id": "d6HevvzoPzqP",
        "outputId": "d9b3ab40-23fe-48d1-b759-43cb2872032c"
      },
      "execution_count": null,
      "outputs": [
        {
          "output_type": "stream",
          "name": "stdout",
          "text": [
            "Random Forest feature importances:\n",
            " movie_avg_rating    0.359325\n",
            "user_avg_rating     0.311004\n",
            "age                 0.152410\n",
            "movie_year          0.112531\n",
            "genre_count         0.049325\n",
            "gender_num          0.015404\n",
            "dtype: float64\n"
          ]
        }
      ]
    },
    {
      "cell_type": "code",
      "source": [],
      "metadata": {
        "id": "3_25GohOQLix"
      },
      "execution_count": null,
      "outputs": []
    }
  ]
}